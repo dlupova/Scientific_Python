{
 "cells": [
  {
   "cell_type": "markdown",
   "metadata": {},
   "source": [
    "# Imports"
   ]
  },
  {
   "cell_type": "code",
   "execution_count": 56,
   "metadata": {},
   "outputs": [],
   "source": [
    "import Bio\n",
    "from Bio import SeqUtils\n",
    "from Bio.SeqUtils.ProtParam import ProteinAnalysis\n",
    "from Bio import Seq\n",
    "from Bio import SeqIO"
   ]
  },
  {
   "cell_type": "markdown",
   "metadata": {},
   "source": [
    "# Data"
   ]
  },
  {
   "cell_type": "code",
   "execution_count": null,
   "metadata": {},
   "outputs": [],
   "source": [
    "input_file = \"C:/Users/Admin/Downloads/nucl.fasta\"\n",
    "output_file = \"C:/Users/Admin/Downloads/nucl_out.fasta\""
   ]
  },
  {
   "cell_type": "markdown",
   "metadata": {},
   "source": [
    "# Functions"
   ]
  },
  {
   "cell_type": "code",
   "execution_count": 101,
   "metadata": {},
   "outputs": [],
   "source": [
    "def my_own_filtering(input_file, output_file, filt_gc=45, filt_arom=0.125):\n",
    "    \n",
    "    sequences = {}\n",
    "    cur = 0\n",
    "    res = 0\n",
    "        \n",
    "    with open(input_file, \"r\") as content:\n",
    "        \n",
    "        for record in SeqIO.parse(content, \"fasta\"):\n",
    "            cur += 1\n",
    "            \n",
    "            # calculate GC content using Bio\n",
    "            calc_gc = Bio.SeqUtils.GC(record.seq)\n",
    "            \n",
    "            # calculate aromaticity using Bio\n",
    "            calc_arom = ProteinAnalysis(Bio.Seq.translate(str(record.seq))).aromaticity()\n",
    "            \n",
    "            # so, now you can filter\n",
    "            if calc_gc >= filt_gc and calc_arom >= filt_arom:\n",
    "                sequences.update({record.id:str(record.seq)})\n",
    "    \n",
    "    # write a new fasta file with aminoacids\n",
    "    records = []\n",
    "    for seq_id, seq in sequences.items():\n",
    "        res += 1\n",
    "        records.append(f'>{seq_id}')\n",
    "        records.append(f'{seq}')\n",
    "    \n",
    "    with open(output_file, 'w') as f:\n",
    "        f.write('\\n'.join(records))\n",
    "\n",
    "    # print the percentage\n",
    "    print(res / cur)"
   ]
  },
  {
   "cell_type": "markdown",
   "metadata": {},
   "source": [
    "# Output"
   ]
  },
  {
   "cell_type": "code",
   "execution_count": 100,
   "metadata": {},
   "outputs": [
    {
     "name": "stdout",
     "output_type": "stream",
     "text": [
      "0.2857142857142857\n"
     ]
    }
   ],
   "source": [
    "my_own_filtering(input_file, output_file, filt_gc=45, filt_arom=0.01)"
   ]
  }
 ],
 "metadata": {
  "kernelspec": {
   "display_name": "Python 3",
   "language": "python",
   "name": "python3"
  },
  "language_info": {
   "codemirror_mode": {
    "name": "ipython",
    "version": 3
   },
   "file_extension": ".py",
   "mimetype": "text/x-python",
   "name": "python",
   "nbconvert_exporter": "python",
   "pygments_lexer": "ipython3",
   "version": "3.8.5"
  }
 },
 "nbformat": 4,
 "nbformat_minor": 4
}
