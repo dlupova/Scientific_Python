{
  "nbformat": 4,
  "nbformat_minor": 0,
  "metadata": {
    "kernelspec": {
      "display_name": "Python 3",
      "language": "python",
      "name": "python3"
    },
    "language_info": {
      "codemirror_mode": {
        "name": "ipython",
        "version": 3
      },
      "file_extension": ".py",
      "mimetype": "text/x-python",
      "name": "python",
      "nbconvert_exporter": "python",
      "pygments_lexer": "ipython3",
      "version": "3.8.5"
    },
    "colab": {
      "name": "SciPy HW1.ipynb",
      "provenance": [],
      "collapsed_sections": []
    }
  },
  "cells": [
    {
      "cell_type": "code",
      "metadata": {
        "id": "R_l8QDv6qI8t"
      },
      "source": [
        "import re"
      ],
      "execution_count": 1,
      "outputs": []
    },
    {
      "cell_type": "code",
      "metadata": {
        "id": "Z-qiK_fmqI8u"
      },
      "source": [
        "# Task 1"
      ],
      "execution_count": 2,
      "outputs": []
    },
    {
      "cell_type": "code",
      "metadata": {
        "colab": {
          "base_uri": "https://localhost:8080/"
        },
        "id": "VqZPT7sVqI8v",
        "outputId": "6ce2bc44-e754-4717-9707-b4b4778560db"
      },
      "source": [
        "txt = 'abbbcdee'\n",
        "print(re.sub(r'(\\w)(\\1)+', r'\\1', txt))"
      ],
      "execution_count": 3,
      "outputs": [
        {
          "output_type": "stream",
          "text": [
            "abcde\n"
          ],
          "name": "stdout"
        }
      ]
    },
    {
      "cell_type": "code",
      "metadata": {
        "id": "i-R5W5qQqI8v"
      },
      "source": [
        "# Task 2"
      ],
      "execution_count": 4,
      "outputs": []
    },
    {
      "cell_type": "code",
      "metadata": {
        "colab": {
          "base_uri": "https://localhost:8080/"
        },
        "id": "-bDBdtC2qI8w",
        "outputId": "12c7c707-5da2-4f51-f93b-d902e6d414fb"
      },
      "source": [
        "txt = ['Mus musculus', 'Agalma elegans', 'Frillagalma vityazi', 'Cordalgalma tottoni']\n",
        "for t in txt:\n",
        "    print(re.search(r'^\\w', t).group() + '.' + re.search(r'\\s\\w*', t).group())"
      ],
      "execution_count": 5,
      "outputs": [
        {
          "output_type": "stream",
          "text": [
            "M. musculus\n",
            "A. elegans\n",
            "F. vityazi\n",
            "C. tottoni\n"
          ],
          "name": "stdout"
        }
      ]
    },
    {
      "cell_type": "code",
      "metadata": {
        "id": "bZq87JHkqI8w"
      },
      "source": [
        "# Task 3"
      ],
      "execution_count": 6,
      "outputs": []
    },
    {
      "cell_type": "code",
      "metadata": {
        "colab": {
          "base_uri": "https://localhost:8080/"
        },
        "id": "8Iw2LPKrqI8w",
        "outputId": "4e1b5534-0cfc-44c3-a306-7f53b527bff3"
      },
      "source": [
        "txt = ['Mus musculus (Y456)', 'Agalma elegans (AB34)', 'Frillagalma vityazi', 'Cordalgalma tottoni']\n",
        "for t in txt:\n",
        "    t = re.sub(r'^(\\w)\\w*\\s', r'\\1.', t)\n",
        "    t = re.sub(r'\\(([\\w]*\\d*)\\)', r'\\1', t)\n",
        "    print(t)"
      ],
      "execution_count": 7,
      "outputs": [
        {
          "output_type": "stream",
          "text": [
            "M.musculus Y456\n",
            "A.elegans AB34\n",
            "F.vityazi\n",
            "C.tottoni\n"
          ],
          "name": "stdout"
        }
      ]
    },
    {
      "cell_type": "code",
      "metadata": {
        "id": "CfRsEPboqI8w"
      },
      "source": [
        "# Task 4"
      ],
      "execution_count": 8,
      "outputs": []
    },
    {
      "cell_type": "code",
      "metadata": {
        "colab": {
          "base_uri": "https://localhost:8080/"
        },
        "id": "9yZTGanwqI8x",
        "outputId": "e0305e6e-d854-4359-b140-ccd68d49d88d"
      },
      "source": [
        "import urllib.request as urllib2\n",
        "\n",
        "prosite = urllib2.urlopen('https://prosite.expasy.org/cgi-bin/prosite/ScanView.cgi?scanfile=975054635427.scan.gz').read().decode('utf-8')\n",
        "\n",
        "fasta_id = re.search(r'(?<=sequence\\s).*?(?=\\s)', prosite).group()\n",
        "acive_site = re.search(r'(?<=\"matchseq\">&nbsp;&nbsp;)\\w*(?=</span>)', prosite).group()\n",
        "position = re.search(r'(?<=hit=)\\d*(?=,)', prosite).group()\n",
        "\n",
        "print(f'Isocitrate lyase {fasta_id} contains its active site {acive_site} starting from {position}th position')"
      ],
      "execution_count": 9,
      "outputs": [
        {
          "output_type": "stream",
          "text": [
            "Isocitrate lyase ASF67065-1 contains its active site KKCGHM starting from 193th position\n"
          ],
          "name": "stdout"
        }
      ]
    }
  ]
}