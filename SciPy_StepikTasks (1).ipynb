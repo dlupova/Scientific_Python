{
 "cells": [
  {
   "cell_type": "markdown",
   "metadata": {},
   "source": [
    "### Task 1"
   ]
  },
  {
   "cell_type": "code",
   "execution_count": null,
   "metadata": {},
   "outputs": [],
   "source": [
    "rule count_words:\n",
    "    input: 'input/input.txt'\n",
    "    output: 'output/output.txt'\n",
    "    shell: 'wc -w < {input} > {output}'"
   ]
  },
  {
   "cell_type": "markdown",
   "metadata": {},
   "source": [
    "### Task 2"
   ]
  },
  {
   "cell_type": "markdown",
   "metadata": {},
   "source": [
    "count_sym.py:"
   ]
  },
  {
   "cell_type": "code",
   "execution_count": null,
   "metadata": {},
   "outputs": [],
   "source": [
    "import sys\n",
    "\n",
    "\n",
    "def count_sym(file):\n",
    "    res = []\n",
    "    with open(file, 'r') as f:\n",
    "        text = f.readline()\n",
    "        for i in set(text):\n",
    "            if i != '\\n':\n",
    "                res.append(f'{i} : {text.count(i)}')\n",
    "    return '\\n'.join(res)\n",
    "\n",
    "\n",
    "print(count_sym(sys.argv[-1]))"
   ]
  },
  {
   "cell_type": "markdown",
   "metadata": {},
   "source": [
    "Snakefile:"
   ]
  },
  {
   "cell_type": "code",
   "execution_count": null,
   "metadata": {},
   "outputs": [],
   "source": [
    "def gen(wildcards):\n",
    "    return ['output/{}.txt'.format(i) for i in range(1, 4)]\n",
    "\n",
    "rule all:\n",
    "    input: gen\n",
    "    output: '.status'\n",
    "    shell: 'touch {output}'\n",
    "\n",
    "rule count_symbols:\n",
    "    input: 'input/{file}.txt'\n",
    "    output: 'output/{file}.txt'\n",
    "    shell: 'python count_sym.py count_sym {input} > {output}'"
   ]
  }
 ],
 "metadata": {
  "kernelspec": {
   "display_name": "Python 3",
   "language": "python",
   "name": "python3"
  },
  "language_info": {
   "codemirror_mode": {
    "name": "ipython",
    "version": 3
   },
   "file_extension": ".py",
   "mimetype": "text/x-python",
   "name": "python",
   "nbconvert_exporter": "python",
   "pygments_lexer": "ipython3",
   "version": "3.8.5"
  }
 },
 "nbformat": 4,
 "nbformat_minor": 4
}
