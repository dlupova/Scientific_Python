{
 "cells": [
  {
   "cell_type": "markdown",
   "metadata": {},
   "source": [
    "## Data"
   ]
  },
  {
   "cell_type": "code",
   "execution_count": 14,
   "metadata": {},
   "outputs": [],
   "source": [
    "js_1 = [{\"name\": \"A\", \"parents\": []}, \n",
    "        {\"name\": \"B\", \"parents\": [\"A\", \"C\"]},\n",
    "        {\"name\": \"C\", \"parents\": [\"A\"]}]\n",
    "\n",
    "js_2 = [{\"name\": \"B\", \"parents\": [\"A\", \"C\"]}, \n",
    "          {\"name\": \"C\", \"parents\": [\"A\"]}, \n",
    "          {\"name\": \"A\", \"parents\": []}, \n",
    "          {\"name\": \"D\", \"parents\":[\"C\", \"F\"]}, \n",
    "          {\"name\": \"E\", \"parents\":[\"D\"]}, \n",
    "          {\"name\": \"F\", \"parents\":[]}]"
   ]
  },
  {
   "cell_type": "markdown",
   "metadata": {},
   "source": [
    "## Functions"
   ]
  },
  {
   "cell_type": "code",
   "execution_count": 18,
   "metadata": {},
   "outputs": [],
   "source": [
    "def par_to_des(js_obj):\n",
    "    d_list = {} \n",
    "    for d in js_obj:     \n",
    "        for i in d['parents']:\n",
    "            if i not in d_list:\n",
    "                d_list[i] = [d['name']]\n",
    "            else:\n",
    "                d_list[i].append(d['name'])\n",
    "        if d['name'] not in d_list.keys():\n",
    "            d_list[d['name']] = []\n",
    "    return d_list\n",
    "\n",
    "\n",
    "def dfs(graph, start, visited=None):\n",
    "    if visited is None:\n",
    "        visited = []\n",
    "    visited.append(start)\n",
    "    count = 1\n",
    "    for next in graph[start]:\n",
    "        if next not in visited:\n",
    "            count += dfs(graph, next, visited)[0]\n",
    "    res[start] = count    \n",
    "    return count, res\n",
    "\n",
    "\n",
    "def descendants(js_obj):\n",
    "    des = par_to_des(js_obj)\n",
    "    for start in des.keys():\n",
    "        d = dfs(des, start)[1]\n",
    "    res = []\n",
    "    for k, v in d.items(): \n",
    "        res.append([k, v])\n",
    "    res.sort()\n",
    "    return res\n"
   ]
  },
  {
   "cell_type": "markdown",
   "metadata": {},
   "source": [
    "## Output"
   ]
  },
  {
   "cell_type": "code",
   "execution_count": 19,
   "metadata": {},
   "outputs": [
    {
     "name": "stdout",
     "output_type": "stream",
     "text": [
      "A : 3\n",
      "B : 1\n",
      "C : 2\n"
     ]
    }
   ],
   "source": [
    "res = {}\n",
    "for i in descendants(js_1):\n",
    "    print(f'{i[0]} : {i[1]}')"
   ]
  },
  {
   "cell_type": "code",
   "execution_count": 20,
   "metadata": {},
   "outputs": [
    {
     "name": "stdout",
     "output_type": "stream",
     "text": [
      "A : 5\n",
      "B : 1\n",
      "C : 4\n",
      "D : 2\n",
      "E : 1\n",
      "F : 3\n"
     ]
    }
   ],
   "source": [
    "res = {}\n",
    "for i in descendants(js_2):\n",
    "    print(f'{i[0]} : {i[1]}')"
   ]
  }
 ],
 "metadata": {
  "kernelspec": {
   "display_name": "Python 3",
   "language": "python",
   "name": "python3"
  },
  "language_info": {
   "codemirror_mode": {
    "name": "ipython",
    "version": 3
   },
   "file_extension": ".py",
   "mimetype": "text/x-python",
   "name": "python",
   "nbconvert_exporter": "python",
   "pygments_lexer": "ipython3",
   "version": "3.8.5"
  }
 },
 "nbformat": 4,
 "nbformat_minor": 4
}
